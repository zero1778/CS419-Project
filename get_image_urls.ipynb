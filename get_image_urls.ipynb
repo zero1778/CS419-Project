{
  "nbformat": 4,
  "nbformat_minor": 0,
  "metadata": {
    "colab": {
      "name": "get_image_urls.ipynb",
      "provenance": [],
      "collapsed_sections": []
    },
    "kernelspec": {
      "name": "python3",
      "display_name": "Python 3"
    },
    "language_info": {
      "name": "python"
    }
  },
  "cells": [
    {
      "cell_type": "code",
      "execution_count": null,
      "metadata": {
        "id": "5VZLMV2gUcnd"
      },
      "outputs": [],
      "source": [
        "!pip install -U -q PyDrive\n",
        "import os\n",
        "from pydrive.auth import GoogleAuth\n",
        "from pydrive.drive import GoogleDrive\n",
        "from google.colab import auth\n",
        "from oauth2client.client import GoogleCredentials\n",
        "import json\n",
        "\n",
        "# 1. Authenticate and create the PyDrive client.\n",
        "auth.authenticate_user()\n",
        "gauth = GoogleAuth()\n",
        "gauth.credentials = GoogleCredentials.get_application_default()\n",
        "drive = GoogleDrive(gauth)\n",
        "\n",
        "# choose a local (colab) directory to store the data.\n",
        "# local_download_path = os.path.expanduser('~/data')\n",
        "# try:\n",
        "#   os.makedirs(local_download_path)\n",
        "# except: pass\n",
        "\n",
        "\n",
        "\n"
      ]
    },
    {
      "cell_type": "code",
      "source": [
        "\n",
        "# 2. Auto-iterate using the query syntax\n",
        "#    https://developers.google.com/drive/v2/web/search-parameters\n",
        "file_list = drive.ListFile(\n",
        "    {'q': \"'1NJAD9cYYFLvnaPk_bA-19XMATb1JxVdQ' in parents\"}).GetList()"
      ],
      "metadata": {
        "id": "QHuSBis57d7a"
      },
      "execution_count": null,
      "outputs": []
    },
    {
      "cell_type": "code",
      "source": [
        "urls_dict = {}\n",
        "for f in file_list:\n",
        "  urls_dict[f['title']] = \"https://drive.google.com/uc?id=\" + f['id']"
      ],
      "metadata": {
        "id": "mLTqu4r8YbuX"
      },
      "execution_count": null,
      "outputs": []
    },
    {
      "cell_type": "code",
      "source": [
        "with open(\"image_urls.json\", \"w\") as outfile:\n",
        "    json.dump(urls_dict, outfile)"
      ],
      "metadata": {
        "id": "30EFEgapVmeq"
      },
      "execution_count": null,
      "outputs": []
    }
  ]
}